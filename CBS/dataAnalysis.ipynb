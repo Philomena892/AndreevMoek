{
 "cells": [
  {
   "cell_type": "code",
   "execution_count": 1,
   "metadata": {
    "scrolled": false
   },
   "outputs": [
    {
     "data": {
      "text/html": [
       "<div>\n",
       "<style scoped>\n",
       "    .dataframe tbody tr th:only-of-type {\n",
       "        vertical-align: middle;\n",
       "    }\n",
       "\n",
       "    .dataframe tbody tr th {\n",
       "        vertical-align: top;\n",
       "    }\n",
       "\n",
       "    .dataframe thead th {\n",
       "        text-align: right;\n",
       "    }\n",
       "</style>\n",
       "<table border=\"1\" class=\"dataframe\">\n",
       "  <thead>\n",
       "    <tr style=\"text-align: right;\">\n",
       "      <th></th>\n",
       "      <th>file</th>\n",
       "      <th>time</th>\n",
       "      <th>#nodes</th>\n",
       "      <th>pathlength</th>\n",
       "      <th>horizon</th>\n",
       "      <th>#moves</th>\n",
       "    </tr>\n",
       "  </thead>\n",
       "  <tbody>\n",
       "    <tr>\n",
       "      <th>0</th>\n",
       "      <td>num_robots_benchmark\\10robs.lp</td>\n",
       "      <td>3.399227</td>\n",
       "      <td>26</td>\n",
       "      <td>21</td>\n",
       "      <td>14</td>\n",
       "      <td>59</td>\n",
       "    </tr>\n",
       "    <tr>\n",
       "      <th>1</th>\n",
       "      <td>num_robots_benchmark\\11robs.lp</td>\n",
       "      <td>9.065166</td>\n",
       "      <td>69</td>\n",
       "      <td>46</td>\n",
       "      <td>14</td>\n",
       "      <td>85</td>\n",
       "    </tr>\n",
       "    <tr>\n",
       "      <th>2</th>\n",
       "      <td>num_robots_benchmark\\12robs.lp</td>\n",
       "      <td>19.861134</td>\n",
       "      <td>59</td>\n",
       "      <td>43</td>\n",
       "      <td>14</td>\n",
       "      <td>92</td>\n",
       "    </tr>\n",
       "    <tr>\n",
       "      <th>3</th>\n",
       "      <td>num_robots_benchmark\\13robs.lp</td>\n",
       "      <td>26.939125</td>\n",
       "      <td>72</td>\n",
       "      <td>41</td>\n",
       "      <td>14</td>\n",
       "      <td>96</td>\n",
       "    </tr>\n",
       "    <tr>\n",
       "      <th>4</th>\n",
       "      <td>num_robots_benchmark\\14robs.lp</td>\n",
       "      <td>31.112223</td>\n",
       "      <td>124</td>\n",
       "      <td>71</td>\n",
       "      <td>14</td>\n",
       "      <td>104</td>\n",
       "    </tr>\n",
       "    <tr>\n",
       "      <th>5</th>\n",
       "      <td>num_robots_benchmark\\15robs.lp</td>\n",
       "      <td>25.210158</td>\n",
       "      <td>90</td>\n",
       "      <td>56</td>\n",
       "      <td>14</td>\n",
       "      <td>112</td>\n",
       "    </tr>\n",
       "    <tr>\n",
       "      <th>6</th>\n",
       "      <td>num_robots_benchmark\\16robs.lp</td>\n",
       "      <td>30.002659</td>\n",
       "      <td>99</td>\n",
       "      <td>62</td>\n",
       "      <td>14</td>\n",
       "      <td>106</td>\n",
       "    </tr>\n",
       "    <tr>\n",
       "      <th>7</th>\n",
       "      <td>num_robots_benchmark\\17robs.lp</td>\n",
       "      <td>31.023188</td>\n",
       "      <td>96</td>\n",
       "      <td>60</td>\n",
       "      <td>14</td>\n",
       "      <td>127</td>\n",
       "    </tr>\n",
       "    <tr>\n",
       "      <th>8</th>\n",
       "      <td>num_robots_benchmark\\18robs.lp</td>\n",
       "      <td>67.029485</td>\n",
       "      <td>215</td>\n",
       "      <td>110</td>\n",
       "      <td>14</td>\n",
       "      <td>129</td>\n",
       "    </tr>\n",
       "    <tr>\n",
       "      <th>9</th>\n",
       "      <td>num_robots_benchmark\\19robs.lp</td>\n",
       "      <td>53.268207</td>\n",
       "      <td>177</td>\n",
       "      <td>108</td>\n",
       "      <td>14</td>\n",
       "      <td>128</td>\n",
       "    </tr>\n",
       "    <tr>\n",
       "      <th>10</th>\n",
       "      <td>num_robots_benchmark\\2robs.lp</td>\n",
       "      <td>0.038835</td>\n",
       "      <td>2</td>\n",
       "      <td>0</td>\n",
       "      <td>5</td>\n",
       "      <td>7</td>\n",
       "    </tr>\n",
       "    <tr>\n",
       "      <th>11</th>\n",
       "      <td>num_robots_benchmark\\3robs.lp</td>\n",
       "      <td>0.037731</td>\n",
       "      <td>2</td>\n",
       "      <td>0</td>\n",
       "      <td>6</td>\n",
       "      <td>14</td>\n",
       "    </tr>\n",
       "    <tr>\n",
       "      <th>12</th>\n",
       "      <td>num_robots_benchmark\\4robs.lp</td>\n",
       "      <td>0.034896</td>\n",
       "      <td>2</td>\n",
       "      <td>0</td>\n",
       "      <td>6</td>\n",
       "      <td>21</td>\n",
       "    </tr>\n",
       "    <tr>\n",
       "      <th>13</th>\n",
       "      <td>num_robots_benchmark\\5robs.lp</td>\n",
       "      <td>0.038889</td>\n",
       "      <td>2</td>\n",
       "      <td>0</td>\n",
       "      <td>6</td>\n",
       "      <td>22</td>\n",
       "    </tr>\n",
       "    <tr>\n",
       "      <th>14</th>\n",
       "      <td>num_robots_benchmark\\6robs.lp</td>\n",
       "      <td>0.042359</td>\n",
       "      <td>2</td>\n",
       "      <td>0</td>\n",
       "      <td>6</td>\n",
       "      <td>28</td>\n",
       "    </tr>\n",
       "    <tr>\n",
       "      <th>15</th>\n",
       "      <td>num_robots_benchmark\\7robs.lp</td>\n",
       "      <td>0.048213</td>\n",
       "      <td>2</td>\n",
       "      <td>0</td>\n",
       "      <td>6</td>\n",
       "      <td>31</td>\n",
       "    </tr>\n",
       "    <tr>\n",
       "      <th>16</th>\n",
       "      <td>num_robots_benchmark\\8robs.lp</td>\n",
       "      <td>4.013643</td>\n",
       "      <td>12</td>\n",
       "      <td>8</td>\n",
       "      <td>14</td>\n",
       "      <td>50</td>\n",
       "    </tr>\n",
       "    <tr>\n",
       "      <th>17</th>\n",
       "      <td>num_robots_benchmark\\9robs.lp</td>\n",
       "      <td>4.288100</td>\n",
       "      <td>15</td>\n",
       "      <td>12</td>\n",
       "      <td>14</td>\n",
       "      <td>52</td>\n",
       "    </tr>\n",
       "  </tbody>\n",
       "</table>\n",
       "</div>"
      ],
      "text/plain": [
       "                              file       time  #nodes  pathlength  horizon  \\\n",
       "0   num_robots_benchmark\\10robs.lp   3.399227      26          21       14   \n",
       "1   num_robots_benchmark\\11robs.lp   9.065166      69          46       14   \n",
       "2   num_robots_benchmark\\12robs.lp  19.861134      59          43       14   \n",
       "3   num_robots_benchmark\\13robs.lp  26.939125      72          41       14   \n",
       "4   num_robots_benchmark\\14robs.lp  31.112223     124          71       14   \n",
       "5   num_robots_benchmark\\15robs.lp  25.210158      90          56       14   \n",
       "6   num_robots_benchmark\\16robs.lp  30.002659      99          62       14   \n",
       "7   num_robots_benchmark\\17robs.lp  31.023188      96          60       14   \n",
       "8   num_robots_benchmark\\18robs.lp  67.029485     215         110       14   \n",
       "9   num_robots_benchmark\\19robs.lp  53.268207     177         108       14   \n",
       "10   num_robots_benchmark\\2robs.lp   0.038835       2           0        5   \n",
       "11   num_robots_benchmark\\3robs.lp   0.037731       2           0        6   \n",
       "12   num_robots_benchmark\\4robs.lp   0.034896       2           0        6   \n",
       "13   num_robots_benchmark\\5robs.lp   0.038889       2           0        6   \n",
       "14   num_robots_benchmark\\6robs.lp   0.042359       2           0        6   \n",
       "15   num_robots_benchmark\\7robs.lp   0.048213       2           0        6   \n",
       "16   num_robots_benchmark\\8robs.lp   4.013643      12           8       14   \n",
       "17   num_robots_benchmark\\9robs.lp   4.288100      15          12       14   \n",
       "\n",
       "    #moves  \n",
       "0       59  \n",
       "1       85  \n",
       "2       92  \n",
       "3       96  \n",
       "4      104  \n",
       "5      112  \n",
       "6      106  \n",
       "7      127  \n",
       "8      129  \n",
       "9      128  \n",
       "10       7  \n",
       "11      14  \n",
       "12      21  \n",
       "13      22  \n",
       "14      28  \n",
       "15      31  \n",
       "16      50  \n",
       "17      52  "
      ]
     },
     "execution_count": 1,
     "metadata": {},
     "output_type": "execute_result"
    }
   ],
   "source": [
    "import pandas as pd\n",
    "import matplotlib.pyplot as plt\n",
    "import numpy as np\n",
    "\n",
    "\n",
    "df = pd.read_csv(\"./benchmarkResults/25-07_benchmark_results.csv\")\n",
    "dfg = pd.read_csv(\"./benchmarkResults/greedy_benchmark_results.csv\")\n",
    "\n",
    "dfng = pd.read_csv(\"./benchmarkResults/greedy_incremental_rob_num.csv\")\n",
    "\n",
    "dfng"
   ]
  },
  {
   "cell_type": "code",
   "execution_count": 2,
   "metadata": {},
   "outputs": [
    {
     "data": {
      "text/html": [
       "<div>\n",
       "<style scoped>\n",
       "    .dataframe tbody tr th:only-of-type {\n",
       "        vertical-align: middle;\n",
       "    }\n",
       "\n",
       "    .dataframe tbody tr th {\n",
       "        vertical-align: top;\n",
       "    }\n",
       "\n",
       "    .dataframe thead th {\n",
       "        text-align: right;\n",
       "    }\n",
       "</style>\n",
       "<table border=\"1\" class=\"dataframe\">\n",
       "  <thead>\n",
       "    <tr style=\"text-align: right;\">\n",
       "      <th></th>\n",
       "      <th>file</th>\n",
       "      <th>time</th>\n",
       "      <th>#nodes</th>\n",
       "      <th>pathlength</th>\n",
       "      <th>horizon</th>\n",
       "      <th>#moves</th>\n",
       "      <th>num</th>\n",
       "    </tr>\n",
       "  </thead>\n",
       "  <tbody>\n",
       "    <tr>\n",
       "      <th>10</th>\n",
       "      <td>num_robots_benchmark\\2robs.lp</td>\n",
       "      <td>0.038835</td>\n",
       "      <td>2</td>\n",
       "      <td>0</td>\n",
       "      <td>5</td>\n",
       "      <td>7</td>\n",
       "      <td>2</td>\n",
       "    </tr>\n",
       "    <tr>\n",
       "      <th>11</th>\n",
       "      <td>num_robots_benchmark\\3robs.lp</td>\n",
       "      <td>0.037731</td>\n",
       "      <td>2</td>\n",
       "      <td>0</td>\n",
       "      <td>6</td>\n",
       "      <td>14</td>\n",
       "      <td>3</td>\n",
       "    </tr>\n",
       "    <tr>\n",
       "      <th>12</th>\n",
       "      <td>num_robots_benchmark\\4robs.lp</td>\n",
       "      <td>0.034896</td>\n",
       "      <td>2</td>\n",
       "      <td>0</td>\n",
       "      <td>6</td>\n",
       "      <td>21</td>\n",
       "      <td>4</td>\n",
       "    </tr>\n",
       "    <tr>\n",
       "      <th>13</th>\n",
       "      <td>num_robots_benchmark\\5robs.lp</td>\n",
       "      <td>0.038889</td>\n",
       "      <td>2</td>\n",
       "      <td>0</td>\n",
       "      <td>6</td>\n",
       "      <td>22</td>\n",
       "      <td>5</td>\n",
       "    </tr>\n",
       "    <tr>\n",
       "      <th>14</th>\n",
       "      <td>num_robots_benchmark\\6robs.lp</td>\n",
       "      <td>0.042359</td>\n",
       "      <td>2</td>\n",
       "      <td>0</td>\n",
       "      <td>6</td>\n",
       "      <td>28</td>\n",
       "      <td>6</td>\n",
       "    </tr>\n",
       "    <tr>\n",
       "      <th>15</th>\n",
       "      <td>num_robots_benchmark\\7robs.lp</td>\n",
       "      <td>0.048213</td>\n",
       "      <td>2</td>\n",
       "      <td>0</td>\n",
       "      <td>6</td>\n",
       "      <td>31</td>\n",
       "      <td>7</td>\n",
       "    </tr>\n",
       "    <tr>\n",
       "      <th>16</th>\n",
       "      <td>num_robots_benchmark\\8robs.lp</td>\n",
       "      <td>4.013643</td>\n",
       "      <td>12</td>\n",
       "      <td>8</td>\n",
       "      <td>14</td>\n",
       "      <td>50</td>\n",
       "      <td>8</td>\n",
       "    </tr>\n",
       "    <tr>\n",
       "      <th>17</th>\n",
       "      <td>num_robots_benchmark\\9robs.lp</td>\n",
       "      <td>4.288100</td>\n",
       "      <td>15</td>\n",
       "      <td>12</td>\n",
       "      <td>14</td>\n",
       "      <td>52</td>\n",
       "      <td>9</td>\n",
       "    </tr>\n",
       "    <tr>\n",
       "      <th>0</th>\n",
       "      <td>num_robots_benchmark\\10robs.lp</td>\n",
       "      <td>3.399227</td>\n",
       "      <td>26</td>\n",
       "      <td>21</td>\n",
       "      <td>14</td>\n",
       "      <td>59</td>\n",
       "      <td>10</td>\n",
       "    </tr>\n",
       "    <tr>\n",
       "      <th>1</th>\n",
       "      <td>num_robots_benchmark\\11robs.lp</td>\n",
       "      <td>9.065166</td>\n",
       "      <td>69</td>\n",
       "      <td>46</td>\n",
       "      <td>14</td>\n",
       "      <td>85</td>\n",
       "      <td>11</td>\n",
       "    </tr>\n",
       "    <tr>\n",
       "      <th>2</th>\n",
       "      <td>num_robots_benchmark\\12robs.lp</td>\n",
       "      <td>19.861134</td>\n",
       "      <td>59</td>\n",
       "      <td>43</td>\n",
       "      <td>14</td>\n",
       "      <td>92</td>\n",
       "      <td>12</td>\n",
       "    </tr>\n",
       "    <tr>\n",
       "      <th>3</th>\n",
       "      <td>num_robots_benchmark\\13robs.lp</td>\n",
       "      <td>26.939125</td>\n",
       "      <td>72</td>\n",
       "      <td>41</td>\n",
       "      <td>14</td>\n",
       "      <td>96</td>\n",
       "      <td>13</td>\n",
       "    </tr>\n",
       "    <tr>\n",
       "      <th>4</th>\n",
       "      <td>num_robots_benchmark\\14robs.lp</td>\n",
       "      <td>31.112223</td>\n",
       "      <td>124</td>\n",
       "      <td>71</td>\n",
       "      <td>14</td>\n",
       "      <td>104</td>\n",
       "      <td>14</td>\n",
       "    </tr>\n",
       "    <tr>\n",
       "      <th>5</th>\n",
       "      <td>num_robots_benchmark\\15robs.lp</td>\n",
       "      <td>25.210158</td>\n",
       "      <td>90</td>\n",
       "      <td>56</td>\n",
       "      <td>14</td>\n",
       "      <td>112</td>\n",
       "      <td>15</td>\n",
       "    </tr>\n",
       "    <tr>\n",
       "      <th>6</th>\n",
       "      <td>num_robots_benchmark\\16robs.lp</td>\n",
       "      <td>30.002659</td>\n",
       "      <td>99</td>\n",
       "      <td>62</td>\n",
       "      <td>14</td>\n",
       "      <td>106</td>\n",
       "      <td>16</td>\n",
       "    </tr>\n",
       "    <tr>\n",
       "      <th>7</th>\n",
       "      <td>num_robots_benchmark\\17robs.lp</td>\n",
       "      <td>31.023188</td>\n",
       "      <td>96</td>\n",
       "      <td>60</td>\n",
       "      <td>14</td>\n",
       "      <td>127</td>\n",
       "      <td>17</td>\n",
       "    </tr>\n",
       "    <tr>\n",
       "      <th>8</th>\n",
       "      <td>num_robots_benchmark\\18robs.lp</td>\n",
       "      <td>67.029485</td>\n",
       "      <td>215</td>\n",
       "      <td>110</td>\n",
       "      <td>14</td>\n",
       "      <td>129</td>\n",
       "      <td>18</td>\n",
       "    </tr>\n",
       "    <tr>\n",
       "      <th>9</th>\n",
       "      <td>num_robots_benchmark\\19robs.lp</td>\n",
       "      <td>53.268207</td>\n",
       "      <td>177</td>\n",
       "      <td>108</td>\n",
       "      <td>14</td>\n",
       "      <td>128</td>\n",
       "      <td>19</td>\n",
       "    </tr>\n",
       "  </tbody>\n",
       "</table>\n",
       "</div>"
      ],
      "text/plain": [
       "                              file       time  #nodes  pathlength  horizon  \\\n",
       "10   num_robots_benchmark\\2robs.lp   0.038835       2           0        5   \n",
       "11   num_robots_benchmark\\3robs.lp   0.037731       2           0        6   \n",
       "12   num_robots_benchmark\\4robs.lp   0.034896       2           0        6   \n",
       "13   num_robots_benchmark\\5robs.lp   0.038889       2           0        6   \n",
       "14   num_robots_benchmark\\6robs.lp   0.042359       2           0        6   \n",
       "15   num_robots_benchmark\\7robs.lp   0.048213       2           0        6   \n",
       "16   num_robots_benchmark\\8robs.lp   4.013643      12           8       14   \n",
       "17   num_robots_benchmark\\9robs.lp   4.288100      15          12       14   \n",
       "0   num_robots_benchmark\\10robs.lp   3.399227      26          21       14   \n",
       "1   num_robots_benchmark\\11robs.lp   9.065166      69          46       14   \n",
       "2   num_robots_benchmark\\12robs.lp  19.861134      59          43       14   \n",
       "3   num_robots_benchmark\\13robs.lp  26.939125      72          41       14   \n",
       "4   num_robots_benchmark\\14robs.lp  31.112223     124          71       14   \n",
       "5   num_robots_benchmark\\15robs.lp  25.210158      90          56       14   \n",
       "6   num_robots_benchmark\\16robs.lp  30.002659      99          62       14   \n",
       "7   num_robots_benchmark\\17robs.lp  31.023188      96          60       14   \n",
       "8   num_robots_benchmark\\18robs.lp  67.029485     215         110       14   \n",
       "9   num_robots_benchmark\\19robs.lp  53.268207     177         108       14   \n",
       "\n",
       "    #moves  num  \n",
       "10       7    2  \n",
       "11      14    3  \n",
       "12      21    4  \n",
       "13      22    5  \n",
       "14      28    6  \n",
       "15      31    7  \n",
       "16      50    8  \n",
       "17      52    9  \n",
       "0       59   10  \n",
       "1       85   11  \n",
       "2       92   12  \n",
       "3       96   13  \n",
       "4      104   14  \n",
       "5      112   15  \n",
       "6      106   16  \n",
       "7      127   17  \n",
       "8      129   18  \n",
       "9      128   19  "
      ]
     },
     "execution_count": 2,
     "metadata": {},
     "output_type": "execute_result"
    }
   ],
   "source": [
    "def size(row):\n",
    "    return int(str(row[\"file\"]).split(\"/\")[2][-1])\n",
    "\n",
    "def density(row):\n",
    "    return int(str(row[\"file\"]).split(\"/\")[3][-2:])\n",
    "\n",
    "def ex(row):\n",
    "    return int(str(row[\"file\"]).split(\"/\")[4][2])\n",
    "\n",
    "def num(row):\n",
    "    return int(str(row[\"file\"]).split(\"/\")[0].split(\"\\\\\")[1].split(\"r\")[0])\n",
    "\n",
    "df['size'] = df.apply(lambda row: size(row), axis=1)\n",
    "df['density'] = df.apply(lambda row: density(row), axis=1)\n",
    "df['ex'] = df.apply(lambda row: ex(row), axis=1)\n",
    "            \n",
    "dfg['size'] = dfg.apply(lambda row: size(row), axis=1)\n",
    "dfg['density'] = dfg.apply(lambda row: density(row), axis=1)\n",
    "dfg['ex'] = dfg.apply(lambda row: ex(row), axis=1)\n",
    "\n",
    "dfng['num'] = dfng.apply(lambda row: num(row), axis=1)\n",
    "\n",
    "dfnga = dfng.iloc[0:10]\n",
    "dfngb = dfng.iloc[10:]\n",
    "dfng = pd.concat([dfngb, dfnga], sort=False)\n",
    "dfng\n",
    "\n",
    "# Nummerierung der Zeilen fixen"
   ]
  },
  {
   "cell_type": "code",
   "execution_count": 3,
   "metadata": {},
   "outputs": [
    {
     "name": "stdout",
     "output_type": "stream",
     "text": [
      "[0, 0, 4, 0, 0, 8, 1, 11, 15, 2, 14]\n"
     ]
    },
    {
     "data": {
      "text/plain": [
       "[0.36792573606556594,\n",
       " 2.5683630408680376,\n",
       " 119.50608018493318,\n",
       " 8.118940189333323,\n",
       " 40.09910480566808,\n",
       " 194.69680946353475,\n",
       " 23.631675379934798,\n",
       " 222.68144714853358,\n",
       " 300,\n",
       " 78.93638717273134,\n",
       " 291.5617531544665]"
      ]
     },
     "execution_count": 3,
     "metadata": {},
     "output_type": "execute_result"
    }
   ],
   "source": [
    "# sort data by size + density\n",
    "\n",
    "def sort_by_category(to_sort):\n",
    "    '''returns list of DataFrames'''\n",
    "    lcg = [] #(List of Categorised Groups)\n",
    "    for i in range(int((len(to_sort)-1)/15)):\n",
    "        lcg.append(to_sort.iloc[(i*15):(i*15+15)])\n",
    "    return lcg\n",
    "\n",
    "# list of DataFrames, split by size + density\n",
    "catList = sort_by_category(df)\n",
    "greedyCatList = sort_by_category(dfg)\n",
    "\n",
    "\n",
    "\n",
    "# for every df in received list, \n",
    "# calculate how many NaN rows are in there\n",
    "# returns: list of int\n",
    "\n",
    "def nan_counter(cat_df):\n",
    "    lc = [] # List of Counts\n",
    "    for elem in cat_df:\n",
    "        counter = 0\n",
    "        for i in range(15):\n",
    "            if np.isnan(elem[\"time\"].iloc[i]):\n",
    "                counter += 1\n",
    "        lc.append(counter)\n",
    "    return lc\n",
    "\n",
    "# list of NaN rows in cat_list df\n",
    "nanList = nan_counter(catList)\n",
    "greedyNanList = nan_counter(greedyCatList)\n",
    "\n",
    "print(nanList)\n",
    "\n",
    "# calculate list of mean times \n",
    "def mean_list(df_list, nan_List):\n",
    "    l = []\n",
    "    counter = 0\n",
    "    length = len(df_list[0])\n",
    "    for elem in df_list:\n",
    "        tempMean = elem.mean()[0]\n",
    "        locNans = nan_List[counter]\n",
    "        if(locNans != 0):\n",
    "            if(locNans == length):\n",
    "                tempMean = 300\n",
    "            else: \n",
    "                tempMean = (tempMean * (length - locNans) + locNans * 300) / length\n",
    "        l.append(tempMean)\n",
    "        counter += 1\n",
    "    return l\n",
    "\n",
    "# list of mean times for each size + density combination\n",
    "mean = mean_list(catList, nanList)\n",
    "mean"
   ]
  },
  {
   "cell_type": "code",
   "execution_count": 4,
   "metadata": {},
   "outputs": [
    {
     "data": {
      "image/png": "[encoded data removed]",
      "text/plain": [
       "<Figure size 288x432 with 4 Axes>"
      ]
     },
     "metadata": {
      "needs_background": "light"
     },
     "output_type": "display_data"
    }
   ],
   "source": [
    "# df1 = df.loc[(df['ex']==1)].copy(deep=True)\n",
    "# df2 = df.loc[(df['ex']==2)]\n",
    "# df3 = df.loc[(df['ex']==3)]\n",
    "\n",
    "# df1['time'] = df['time'].fillna(5*60)\n",
    "\n",
    "\n",
    "# plot mean times for each density/size combination\n",
    "points = np.linspace(0, len(mean), len(mean))\n",
    "points = [20,30,40]\n",
    "  \n",
    "\n",
    "\n",
    "fig = plt.figure()\n",
    "ax1 = fig.add_subplot(2, 2, 1)\n",
    "ax2 = fig.add_subplot(2, 2, 2, sharey=ax1, sharex=ax1)\n",
    "ax3 = fig.add_subplot(2, 2, 3, sharey=ax1, sharex=ax1)\n",
    "ax4 = fig.add_subplot(2, 2, 4, sharey=ax1, sharex=ax1)\n",
    "\n",
    "ax1.scatter(points, mean[:3])\n",
    "ax2.scatter(points, mean[3:6])\n",
    "ax3.scatter(points, mean[6:9])\n",
    "ax4.scatter(points[:-1], mean[9:])\n",
    "\n",
    "fig.set_size_inches(4, 6, forward=True)\n",
    "fig.tight_layout()\n",
    "\n",
    "\n",
    "ax1.grid()\n",
    "ax2.grid()\n",
    "ax3.grid()\n",
    "ax4.grid()\n",
    "\n",
    "plt.show()"
   ]
  },
  {
   "cell_type": "code",
   "execution_count": 5,
   "metadata": {},
   "outputs": [
    {
     "data": {
      "image/png": "[encoded data removed]",
      "text/plain": [
       "<Figure size 288x432 with 3 Axes>"
      ]
     },
     "metadata": {
      "needs_background": "light"
     },
     "output_type": "display_data"
    }
   ],
   "source": [
    "points = [5,6,7,8]\n",
    "  \n",
    "\n",
    "\n",
    "fig = plt.figure()\n",
    "ax1 = fig.add_subplot(2, 2, 1)\n",
    "ax2 = fig.add_subplot(2, 2, 2, sharey=ax1, sharex=ax1)\n",
    "ax3 = fig.add_subplot(2, 2, 3, sharey=ax1, sharex=ax1)\n",
    "\n",
    "ax1.scatter(points, mean[::3])\n",
    "ax2.scatter(points, mean[1::3])\n",
    "ax3.scatter(points[:3], mean[2::3])\n",
    "\n",
    "fig.set_size_inches(4, 6, forward=True)\n",
    "fig.tight_layout()\n",
    "\n",
    "\n",
    "ax1.grid()\n",
    "ax2.grid()\n",
    "ax3.grid()\n",
    "\n",
    "plt.show()"
   ]
  },
  {
   "cell_type": "code",
   "execution_count": 6,
   "metadata": {},
   "outputs": [
    {
     "name": "stdout",
     "output_type": "stream",
     "text": [
      "[0.36792573606556594, 2.5683630408680376, 119.50608018493318, 8.118940189333323, 40.09910480566808, 194.69680946353475, 23.631675379934798, 222.68144714853358, 300, 78.93638717273134, 291.5617531544665]\n"
     ]
    },
    {
     "data": {
      "image/png": "[encoded data removed]",
      "text/plain": [
       "<Figure size 432x288 with 1 Axes>"
      ]
     },
     "metadata": {
      "needs_background": "light"
     },
     "output_type": "display_data"
    }
   ],
   "source": [
    "#[mean[:3],mean[3:6],mean[6:9],mean[9:].append(300)],[5,6,7,8]; [mean[::3],mean[1::3],mean[2::3].append(300)]\n",
    "\n",
    "# importing mplot3d toolkits\n",
    "from mpl_toolkits import mplot3d\n",
    "\n",
    "fig = plt.figure()\n",
    "\n",
    "# syntax for 3-D projection\n",
    "ax = plt.axes(projection ='3d')\n",
    "# defining axes\n",
    "z = mean\n",
    "x = range(11)\n",
    "y = x\n",
    "print(z)\n",
    "\n",
    "\n",
    "ax.scatter(x, y, z, c=\"red\")\n",
    "\n",
    "plt.show()"
   ]
  },
  {
   "cell_type": "code",
   "execution_count": 7,
   "metadata": {},
   "outputs": [
    {
     "name": "stdout",
     "output_type": "stream",
     "text": [
      "file      ./benchmark_examples/size5x5/density20/ex1.lp\n",
      "#moves                                               19\n",
      "Name: 0, dtype: object\n",
      "[19.0, 28.0, 20.0, 20.0, 15.0, 23.0, 18.0, 17.0, 18.0, 22.0, 11.0, 14.0, 20.0, 14.0, 12.0]\n"
     ]
    },
    {
     "data": {
      "image/png": "[encoded data removed]",
      "text/plain": [
       "<Figure size 288x432 with 1 Axes>"
      ]
     },
     "metadata": {
      "needs_background": "light"
     },
     "output_type": "display_data"
    },
    {
     "name": "stdout",
     "output_type": "stream",
     "text": [
      "file      ./benchmark_examples/size5x5/density30/ex1.lp\n",
      "#moves                                               29\n",
      "Name: 15, dtype: object\n",
      "[29.0, 14.0, 28.0, 22.0, 19.0, 29.0, 20.0, 23.0, 27.0, 25.0, 26.0, 18.0, 20.0, 21.0, 25.0]\n"
     ]
    },
    {
     "data": {
      "image/png": "[encoded data removed]",
      "text/plain": [
       "<Figure size 288x432 with 1 Axes>"
      ]
     },
     "metadata": {
      "needs_background": "light"
     },
     "output_type": "display_data"
    },
    {
     "name": "stdout",
     "output_type": "stream",
     "text": [
      "file      ./benchmark_examples/size5x5/density40/ex1.lp\n",
      "#moves                                               32\n",
      "Name: 30, dtype: object\n",
      "[32.0, 43.0, 34.0, nan, nan, 33.0, 34.0, 31.0, nan, 34.0, 27.0, 35.0, nan, 37.0, 36.0]\n"
     ]
    },
    {
     "data": {
      "image/png": "[encoded data removed]",
      "text/plain": [
       "<Figure size 288x432 with 1 Axes>"
      ]
     },
     "metadata": {
      "needs_background": "light"
     },
     "output_type": "display_data"
    },
    {
     "name": "stdout",
     "output_type": "stream",
     "text": [
      "file      ./benchmark_examples/size6x6/density20/ex1.lp\n",
      "#moves                                               18\n",
      "Name: 45, dtype: object\n",
      "[18.0, 27.0, 30.0, 29.0, 27.0, 33.0, 34.0, 39.0, 28.0, 36.0, 29.0, 35.0, 27.0, 29.0, 25.0]\n"
     ]
    },
    {
     "data": {
      "image/png": "[encoded data removed]",
      "text/plain": [
       "<Figure size 288x432 with 1 Axes>"
      ]
     },
     "metadata": {
      "needs_background": "light"
     },
     "output_type": "display_data"
    },
    {
     "name": "stdout",
     "output_type": "stream",
     "text": [
      "file      ./benchmark_examples/size6x6/density30/ex1.lp\n",
      "#moves                                               34\n",
      "Name: 60, dtype: object\n",
      "[34.0, 43.0, 33.0, 33.0, 46.0, 29.0, 48.0, 47.0, 39.0, 43.0, 48.0, 39.0, 45.0, 40.0, 57.0]\n"
     ]
    },
    {
     "data": {
      "image/png": "[encoded data removed]",
      "text/plain": [
       "<Figure size 288x432 with 1 Axes>"
      ]
     },
     "metadata": {
      "needs_background": "light"
     },
     "output_type": "display_data"
    },
    {
     "name": "stdout",
     "output_type": "stream",
     "text": [
      "file      ./benchmark_examples/size6x6/density40/ex1.lp\n",
      "#moves                                               61\n",
      "Name: 75, dtype: object\n",
      "[61.0, nan, 46.0, nan, nan, 55.0, 62.0, 56.0, nan, nan, 53.0, nan, 54.0, nan, nan]\n"
     ]
    },
    {
     "data": {
      "image/png": "[encoded data removed]",
      "text/plain": [
       "<Figure size 288x432 with 1 Axes>"
      ]
     },
     "metadata": {
      "needs_background": "light"
     },
     "output_type": "display_data"
    },
    {
     "name": "stdout",
     "output_type": "stream",
     "text": [
      "file      ./benchmark_examples/size7x7/density20/ex1.lp\n",
      "#moves                                               51\n",
      "Name: 90, dtype: object\n",
      "[51.0, nan, 49.0, 47.0, 35.0, 45.0, 31.0, 54.0, 51.0, 24.0, 52.0, 30.0, 41.0, 40.0, 32.0]\n"
     ]
    },
    {
     "data": {
      "image/png": "[encoded data removed]",
      "text/plain": [
       "<Figure size 288x432 with 1 Axes>"
      ]
     },
     "metadata": {
      "needs_background": "light"
     },
     "output_type": "display_data"
    },
    {
     "name": "stdout",
     "output_type": "stream",
     "text": [
      "file      ./benchmark_examples/size7x7/density30/ex1.lp\n",
      "#moves                                              NaN\n",
      "Name: 105, dtype: object\n",
      "[nan, nan, 52.0, 63.0, nan, nan, nan, nan, 66.0, 62.0, nan, nan, nan, nan, nan]\n"
     ]
    },
    {
     "data": {
      "image/png": "[encoded data removed]",
      "text/plain": [
       "<Figure size 288x432 with 1 Axes>"
      ]
     },
     "metadata": {
      "needs_background": "light"
     },
     "output_type": "display_data"
    },
    {
     "name": "stdout",
     "output_type": "stream",
     "text": [
      "file      ./benchmark_examples/size7x7/density40/ex1.lp\n",
      "#moves                                              NaN\n",
      "Name: 120, dtype: object\n",
      "[nan, nan, nan, nan, nan, nan, nan, nan, nan, nan, nan, nan, nan, nan, nan]\n"
     ]
    },
    {
     "data": {
      "image/png": "[encoded data removed]",
      "text/plain": [
       "<Figure size 288x432 with 1 Axes>"
      ]
     },
     "metadata": {
      "needs_background": "light"
     },
     "output_type": "display_data"
    },
    {
     "name": "stdout",
     "output_type": "stream",
     "text": [
      "file      ./benchmark_examples/size8x8/density20/ex1.lp\n",
      "#moves                                               56\n",
      "Name: 135, dtype: object\n",
      "[56.0, nan, 51.0, 77.0, 70.0, 70.0, 58.0, 61.0, nan, 80.0, 62.0, 66.0, 57.0, 54.0, 49.0]\n"
     ]
    },
    {
     "data": {
      "image/png": "[encoded data removed]",
      "text/plain": [
       "<Figure size 288x432 with 1 Axes>"
      ]
     },
     "metadata": {
      "needs_background": "light"
     },
     "output_type": "display_data"
    },
    {
     "name": "stdout",
     "output_type": "stream",
     "text": [
      "file      ./benchmark_examples/size8x8/density30/ex1.lp\n",
      "#moves                                              NaN\n",
      "Name: 150, dtype: object\n",
      "[nan, nan, nan, nan, nan, 115.0, nan, nan, nan, nan, nan, nan, nan, nan, nan]\n"
     ]
    },
    {
     "data": {
      "image/png": "[encoded data removed]",
      "text/plain": [
       "<Figure size 288x432 with 1 Axes>"
      ]
     },
     "metadata": {
      "needs_background": "light"
     },
     "output_type": "display_data"
    }
   ],
   "source": [
    "points = [*range(1,16)]\n",
    "\n",
    "for i in range(len(catList)):\n",
    "    \n",
    "    fig = plt.figure()\n",
    "    \n",
    "    ax = fig.add_subplot(2, 2, 1)\n",
    "    \n",
    "    print(catList[i][['file','#moves']].iloc[0])\n",
    "    \n",
    "    print(list(catList[i]['#moves']))\n",
    "    \n",
    "    ax.scatter(points, list(catList[i]['#moves']), c=\"blue\")\n",
    "    ax.scatter(points, list(greedyCatList[i]['#moves']), c=\"red\")\n",
    "    \n",
    "    ax.scatter(points, points, c=\"green\")\n",
    "    \n",
    "    fig.set_size_inches(4, 6, forward=True)\n",
    "    fig.tight_layout()  \n",
    "    \n",
    "    ax.grid()\n",
    "\n",
    "    plt.show()"
   ]
  },
  {
   "cell_type": "code",
   "execution_count": 8,
   "metadata": {},
   "outputs": [
    {
     "name": "stdout",
     "output_type": "stream",
     "text": [
      "file       ./benchmark_examples/size5x5/density20/ex10.lp\n",
      "horizon                                                 7\n",
      "Name: 1, dtype: object\n"
     ]
    },
    {
     "data": {
      "image/png": "[encoded data removed]",
      "text/plain": [
       "<Figure size 288x432 with 1 Axes>"
      ]
     },
     "metadata": {
      "needs_background": "light"
     },
     "output_type": "display_data"
    },
    {
     "name": "stdout",
     "output_type": "stream",
     "text": [
      "file       ./benchmark_examples/size5x5/density30/ex10.lp\n",
      "horizon                                                 3\n",
      "Name: 16, dtype: object\n"
     ]
    },
    {
     "data": {
      "image/png": "[encoded data removed]",
      "text/plain": [
       "<Figure size 288x432 with 1 Axes>"
      ]
     },
     "metadata": {
      "needs_background": "light"
     },
     "output_type": "display_data"
    },
    {
     "name": "stdout",
     "output_type": "stream",
     "text": [
      "file       ./benchmark_examples/size5x5/density40/ex10.lp\n",
      "horizon                                                 7\n",
      "Name: 31, dtype: object\n"
     ]
    },
    {
     "data": {
      "image/png": "[encoded data removed]",
      "text/plain": [
       "<Figure size 288x432 with 1 Axes>"
      ]
     },
     "metadata": {
      "needs_background": "light"
     },
     "output_type": "display_data"
    },
    {
     "name": "stdout",
     "output_type": "stream",
     "text": [
      "file       ./benchmark_examples/size6x6/density20/ex10.lp\n",
      "horizon                                                 6\n",
      "Name: 46, dtype: object\n"
     ]
    },
    {
     "data": {
      "image/png": "[encoded data removed]",
      "text/plain": [
       "<Figure size 288x432 with 1 Axes>"
      ]
     },
     "metadata": {
      "needs_background": "light"
     },
     "output_type": "display_data"
    },
    {
     "name": "stdout",
     "output_type": "stream",
     "text": [
      "file       ./benchmark_examples/size6x6/density30/ex10.lp\n",
      "horizon                                                 7\n",
      "Name: 61, dtype: object\n"
     ]
    },
    {
     "data": {
      "image/png": "[encoded data removed]",
      "text/plain": [
       "<Figure size 288x432 with 1 Axes>"
      ]
     },
     "metadata": {
      "needs_background": "light"
     },
     "output_type": "display_data"
    },
    {
     "name": "stdout",
     "output_type": "stream",
     "text": [
      "file       ./benchmark_examples/size6x6/density40/ex10.lp\n",
      "horizon                                               NaN\n",
      "Name: 76, dtype: object\n"
     ]
    },
    {
     "data": {
      "image/png": "[encoded data removed]",
      "text/plain": [
       "<Figure size 288x432 with 1 Axes>"
      ]
     },
     "metadata": {
      "needs_background": "light"
     },
     "output_type": "display_data"
    },
    {
     "name": "stdout",
     "output_type": "stream",
     "text": [
      "file       ./benchmark_examples/size7x7/density20/ex10.lp\n",
      "horizon                                               NaN\n",
      "Name: 91, dtype: object\n"
     ]
    },
    {
     "data": {
      "image/png": "[encoded data removed]",
      "text/plain": [
       "<Figure size 288x432 with 1 Axes>"
      ]
     },
     "metadata": {
      "needs_background": "light"
     },
     "output_type": "display_data"
    },
    {
     "name": "stdout",
     "output_type": "stream",
     "text": [
      "file       ./benchmark_examples/size7x7/density30/ex10.lp\n",
      "horizon                                               NaN\n",
      "Name: 106, dtype: object\n"
     ]
    },
    {
     "data": {
      "image/png": "[encoded data removed]",
      "text/plain": [
       "<Figure size 288x432 with 1 Axes>"
      ]
     },
     "metadata": {
      "needs_background": "light"
     },
     "output_type": "display_data"
    },
    {
     "name": "stdout",
     "output_type": "stream",
     "text": [
      "file       ./benchmark_examples/size7x7/density40/ex10.lp\n",
      "horizon                                               NaN\n",
      "Name: 121, dtype: object\n"
     ]
    },
    {
     "data": {
      "image/png": "[encoded data removed]",
      "text/plain": [
       "<Figure size 288x432 with 1 Axes>"
      ]
     },
     "metadata": {
      "needs_background": "light"
     },
     "output_type": "display_data"
    },
    {
     "name": "stdout",
     "output_type": "stream",
     "text": [
      "file       ./benchmark_examples/size8x8/density20/ex10.lp\n",
      "horizon                                               NaN\n",
      "Name: 136, dtype: object\n"
     ]
    },
    {
     "data": {
      "image/png": "[encoded data removed]",
      "text/plain": [
       "<Figure size 288x432 with 1 Axes>"
      ]
     },
     "metadata": {
      "needs_background": "light"
     },
     "output_type": "display_data"
    },
    {
     "name": "stdout",
     "output_type": "stream",
     "text": [
      "file       ./benchmark_examples/size8x8/density30/ex10.lp\n",
      "horizon                                               NaN\n",
      "Name: 151, dtype: object\n"
     ]
    },
    {
     "data": {
      "image/png": "[encoded data removed]",
      "text/plain": [
       "<Figure size 288x432 with 1 Axes>"
      ]
     },
     "metadata": {
      "needs_background": "light"
     },
     "output_type": "display_data"
    }
   ],
   "source": [
    "points = [*range(1,16)]\n",
    "\n",
    "\n",
    "\n",
    "for i in range(len(catList)):\n",
    "    \n",
    "    fig = plt.figure()\n",
    "    \n",
    "    ax = fig.add_subplot(2, 2, 1)\n",
    "    \n",
    "    print(catList[i][['file','horizon']].iloc[1])\n",
    "\n",
    "    ax.scatter(points, list(catList[i]['horizon']), c=\"blue\")\n",
    "    ax.scatter(points, list(greedyCatList[i]['horizon']), c=\"red\")\n",
    "    \n",
    "    fig.set_size_inches(4, 6, forward=True)\n",
    "    fig.tight_layout()  \n",
    "    \n",
    "    ax.grid()\n",
    "\n",
    "    plt.show()"
   ]
  },
  {
   "cell_type": "code",
   "execution_count": 9,
   "metadata": {},
   "outputs": [
    {
     "data": {
      "image/png": "[encoded data removed]",
      "text/plain": [
       "<Figure size 432x288 with 1 Axes>"
      ]
     },
     "metadata": {
      "needs_background": "light"
     },
     "output_type": "display_data"
    }
   ],
   "source": [
    "# plotting the data from incrementally increasing num of robots\n",
    "\n",
    "dfng.plot(x=\"num\", y=\"time\", label=\"solving speed when num of robots gradually increased\")\n",
    "plt.show()"
   ]
  },
  {
   "cell_type": "code",
   "execution_count": 10,
   "metadata": {},
   "outputs": [
    {
     "ename": "SyntaxError",
     "evalue": "invalid syntax (<ipython-input-10-12eda355a14c>, line 1)",
     "output_type": "error",
     "traceback": [
      "\u001b[1;36m  File \u001b[1;32m\"<ipython-input-10-12eda355a14c>\"\u001b[1;36m, line \u001b[1;32m1\u001b[0m\n\u001b[1;33m    ideas:\u001b[0m\n\u001b[1;37m          ^\u001b[0m\n\u001b[1;31mSyntaxError\u001b[0m\u001b[1;31m:\u001b[0m invalid syntax\n"
     ]
    }
   ],
   "source": [
    "ideas:\n",
    "    dreidimensionale Grafik (size - density - time) \n",
    "    Durchschnitt aus allen drei ex ziehen (exclude NaN?)   x\n",
    "    neu messen mit kleineren Abständen bei Dichte\n",
    "    Optimalität bei greedy vs normal vergleichen\n",
    "    erstelle mehr num_robots_benchmark Verzeichnisse \n",
    "        und bilde Mittel über versch. Messwerte\n",
    "    erstelle mehr nicht-greedy inc-Läufe\n",
    "    die Varianz bei Laufzeiten auf einem Beispiel in\n",
    "        verschiedenen Durchgängen untersuchen\n",
    "    vielleicht anfängliche Konflikt-Anzahl mitausgeben\n",
    "    \n",
    "Was für Aufgaben müssen noch erfüllt werden?\n",
    "    Arbeit schreiben\n",
    "    Kommentare in Code schreiben\n",
    "    Github Erklärungen/Aufbau verbessern"
   ]
  }
 ],
 "metadata": {
  "kernelspec": {
   "display_name": "Python 3",
   "language": "python",
   "name": "python3"
  },
  "language_info": {
   "codemirror_mode": {
    "name": "ipython",
    "version": 3
   },
   "file_extension": ".py",
   "mimetype": "text/x-python",
   "name": "python",
   "nbconvert_exporter": "python",
   "pygments_lexer": "ipython3",
   "version": "3.8.5"
  }
 },
 "nbformat": 4,
 "nbformat_minor": 4
}
