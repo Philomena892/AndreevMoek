{
 "cells": [
  {
   "cell_type": "code",
   "execution_count": 1,
   "metadata": {
    "scrolled": false
   },
   "outputs": [
    {
     "data": {
      "text/html": [
       "<div>\n",
       "<style scoped>\n",
       "    .dataframe tbody tr th:only-of-type {\n",
       "        vertical-align: middle;\n",
       "    }\n",
       "\n",
       "    .dataframe tbody tr th {\n",
       "        vertical-align: top;\n",
       "    }\n",
       "\n",
       "    .dataframe thead th {\n",
       "        text-align: right;\n",
       "    }\n",
       "</style>\n",
       "<table border=\"1\" class=\"dataframe\">\n",
       "  <thead>\n",
       "    <tr style=\"text-align: right;\">\n",
       "      <th></th>\n",
       "      <th>file</th>\n",
       "      <th>time</th>\n",
       "      <th>#nodes</th>\n",
       "      <th>pathlength</th>\n",
       "      <th>horizon</th>\n",
       "      <th>#moves</th>\n",
       "    </tr>\n",
       "  </thead>\n",
       "  <tbody>\n",
       "    <tr>\n",
       "      <th>0</th>\n",
       "      <td>num_robots_benchmark\\10robs.lp</td>\n",
       "      <td>3.399227</td>\n",
       "      <td>26.0</td>\n",
       "      <td>21.0</td>\n",
       "      <td>14.0</td>\n",
       "      <td>59.0</td>\n",
       "    </tr>\n",
       "    <tr>\n",
       "      <th>1</th>\n",
       "      <td>num_robots_benchmark\\11robs.lp</td>\n",
       "      <td>9.065166</td>\n",
       "      <td>69.0</td>\n",
       "      <td>46.0</td>\n",
       "      <td>14.0</td>\n",
       "      <td>85.0</td>\n",
       "    </tr>\n",
       "    <tr>\n",
       "      <th>2</th>\n",
       "      <td>num_robots_benchmark\\12robs.lp</td>\n",
       "      <td>19.861134</td>\n",
       "      <td>59.0</td>\n",
       "      <td>43.0</td>\n",
       "      <td>14.0</td>\n",
       "      <td>92.0</td>\n",
       "    </tr>\n",
       "    <tr>\n",
       "      <th>3</th>\n",
       "      <td>num_robots_benchmark\\13robs.lp</td>\n",
       "      <td>26.939125</td>\n",
       "      <td>72.0</td>\n",
       "      <td>41.0</td>\n",
       "      <td>14.0</td>\n",
       "      <td>96.0</td>\n",
       "    </tr>\n",
       "    <tr>\n",
       "      <th>4</th>\n",
       "      <td>num_robots_benchmark\\14robs.lp</td>\n",
       "      <td>31.112223</td>\n",
       "      <td>124.0</td>\n",
       "      <td>71.0</td>\n",
       "      <td>14.0</td>\n",
       "      <td>104.0</td>\n",
       "    </tr>\n",
       "    <tr>\n",
       "      <th>5</th>\n",
       "      <td>num_robots_benchmark\\15robs.lp</td>\n",
       "      <td>25.210158</td>\n",
       "      <td>90.0</td>\n",
       "      <td>56.0</td>\n",
       "      <td>14.0</td>\n",
       "      <td>112.0</td>\n",
       "    </tr>\n",
       "    <tr>\n",
       "      <th>6</th>\n",
       "      <td>num_robots_benchmark\\16robs.lp</td>\n",
       "      <td>30.002659</td>\n",
       "      <td>99.0</td>\n",
       "      <td>62.0</td>\n",
       "      <td>14.0</td>\n",
       "      <td>106.0</td>\n",
       "    </tr>\n",
       "    <tr>\n",
       "      <th>7</th>\n",
       "      <td>num_robots_benchmark\\17robs.lp</td>\n",
       "      <td>31.023188</td>\n",
       "      <td>96.0</td>\n",
       "      <td>60.0</td>\n",
       "      <td>14.0</td>\n",
       "      <td>127.0</td>\n",
       "    </tr>\n",
       "    <tr>\n",
       "      <th>8</th>\n",
       "      <td>num_robots_benchmark\\18robs.lp</td>\n",
       "      <td>67.029485</td>\n",
       "      <td>215.0</td>\n",
       "      <td>110.0</td>\n",
       "      <td>14.0</td>\n",
       "      <td>129.0</td>\n",
       "    </tr>\n",
       "    <tr>\n",
       "      <th>9</th>\n",
       "      <td>num_robots_benchmark\\19robs.lp</td>\n",
       "      <td>53.268207</td>\n",
       "      <td>177.0</td>\n",
       "      <td>108.0</td>\n",
       "      <td>14.0</td>\n",
       "      <td>128.0</td>\n",
       "    </tr>\n",
       "    <tr>\n",
       "      <th>10</th>\n",
       "      <td>num_robots_benchmark\\2robs.lp</td>\n",
       "      <td>0.038835</td>\n",
       "      <td>2.0</td>\n",
       "      <td>0.0</td>\n",
       "      <td>5.0</td>\n",
       "      <td>7.0</td>\n",
       "    </tr>\n",
       "    <tr>\n",
       "      <th>11</th>\n",
       "      <td>num_robots_benchmark\\3robs.lp</td>\n",
       "      <td>0.037731</td>\n",
       "      <td>2.0</td>\n",
       "      <td>0.0</td>\n",
       "      <td>6.0</td>\n",
       "      <td>14.0</td>\n",
       "    </tr>\n",
       "    <tr>\n",
       "      <th>12</th>\n",
       "      <td>num_robots_benchmark\\4robs.lp</td>\n",
       "      <td>0.034896</td>\n",
       "      <td>2.0</td>\n",
       "      <td>0.0</td>\n",
       "      <td>6.0</td>\n",
       "      <td>21.0</td>\n",
       "    </tr>\n",
       "    <tr>\n",
       "      <th>13</th>\n",
       "      <td>num_robots_benchmark\\5robs.lp</td>\n",
       "      <td>0.038889</td>\n",
       "      <td>2.0</td>\n",
       "      <td>0.0</td>\n",
       "      <td>6.0</td>\n",
       "      <td>22.0</td>\n",
       "    </tr>\n",
       "    <tr>\n",
       "      <th>14</th>\n",
       "      <td>num_robots_benchmark\\6robs.lp</td>\n",
       "      <td>0.042359</td>\n",
       "      <td>2.0</td>\n",
       "      <td>0.0</td>\n",
       "      <td>6.0</td>\n",
       "      <td>28.0</td>\n",
       "    </tr>\n",
       "    <tr>\n",
       "      <th>15</th>\n",
       "      <td>num_robots_benchmark\\7robs.lp</td>\n",
       "      <td>0.048213</td>\n",
       "      <td>2.0</td>\n",
       "      <td>0.0</td>\n",
       "      <td>6.0</td>\n",
       "      <td>31.0</td>\n",
       "    </tr>\n",
       "    <tr>\n",
       "      <th>16</th>\n",
       "      <td>num_robots_benchmark\\8robs.lp</td>\n",
       "      <td>4.013643</td>\n",
       "      <td>12.0</td>\n",
       "      <td>8.0</td>\n",
       "      <td>14.0</td>\n",
       "      <td>50.0</td>\n",
       "    </tr>\n",
       "    <tr>\n",
       "      <th>17</th>\n",
       "      <td>num_robots_benchmark\\9robs.lp</td>\n",
       "      <td>4.288100</td>\n",
       "      <td>15.0</td>\n",
       "      <td>12.0</td>\n",
       "      <td>14.0</td>\n",
       "      <td>52.0</td>\n",
       "    </tr>\n",
       "  </tbody>\n",
       "</table>\n",
       "</div>"
      ],
      "text/plain": [
       "                              file       time  #nodes  pathlength  horizon  \\\n",
       "0   num_robots_benchmark\\10robs.lp   3.399227    26.0        21.0     14.0   \n",
       "1   num_robots_benchmark\\11robs.lp   9.065166    69.0        46.0     14.0   \n",
       "2   num_robots_benchmark\\12robs.lp  19.861134    59.0        43.0     14.0   \n",
       "3   num_robots_benchmark\\13robs.lp  26.939125    72.0        41.0     14.0   \n",
       "4   num_robots_benchmark\\14robs.lp  31.112223   124.0        71.0     14.0   \n",
       "5   num_robots_benchmark\\15robs.lp  25.210158    90.0        56.0     14.0   \n",
       "6   num_robots_benchmark\\16robs.lp  30.002659    99.0        62.0     14.0   \n",
       "7   num_robots_benchmark\\17robs.lp  31.023188    96.0        60.0     14.0   \n",
       "8   num_robots_benchmark\\18robs.lp  67.029485   215.0       110.0     14.0   \n",
       "9   num_robots_benchmark\\19robs.lp  53.268207   177.0       108.0     14.0   \n",
       "10   num_robots_benchmark\\2robs.lp   0.038835     2.0         0.0      5.0   \n",
       "11   num_robots_benchmark\\3robs.lp   0.037731     2.0         0.0      6.0   \n",
       "12   num_robots_benchmark\\4robs.lp   0.034896     2.0         0.0      6.0   \n",
       "13   num_robots_benchmark\\5robs.lp   0.038889     2.0         0.0      6.0   \n",
       "14   num_robots_benchmark\\6robs.lp   0.042359     2.0         0.0      6.0   \n",
       "15   num_robots_benchmark\\7robs.lp   0.048213     2.0         0.0      6.0   \n",
       "16   num_robots_benchmark\\8robs.lp   4.013643    12.0         8.0     14.0   \n",
       "17   num_robots_benchmark\\9robs.lp   4.288100    15.0        12.0     14.0   \n",
       "\n",
       "    #moves  \n",
       "0     59.0  \n",
       "1     85.0  \n",
       "2     92.0  \n",
       "3     96.0  \n",
       "4    104.0  \n",
       "5    112.0  \n",
       "6    106.0  \n",
       "7    127.0  \n",
       "8    129.0  \n",
       "9    128.0  \n",
       "10     7.0  \n",
       "11    14.0  \n",
       "12    21.0  \n",
       "13    22.0  \n",
       "14    28.0  \n",
       "15    31.0  \n",
       "16    50.0  \n",
       "17    52.0  "
      ]
     },
     "execution_count": 1,
     "metadata": {},
     "output_type": "execute_result"
    }
   ],
   "source": [
    "import pandas as pd\n",
    "import matplotlib.pyplot as plt\n",
    "import numpy as np\n",
    "\n",
    "dtype = {'file' : 'str', 'time' : np.float64, '#nodes' : np.float64, 'pathlength' : np.float64, 'horizon' : np.float64, '#moves' : np.float64}\n",
    "\n",
    "df = pd.read_csv(\"./benchmarkResults/25-07_benchmark_results.csv\", dtype = dtype)\n",
    "dfg = pd.read_csv(\"./benchmarkResults/greedy_benchmark_results.csv\", dtype = dtype)\n",
    "\n",
    "dfng = pd.read_csv(\"./benchmarkResults/greedy_incremental_rob_num.csv\", dtype = dtype)\n",
    "\n",
    "dfng"
   ]
  },
  {
   "cell_type": "code",
   "execution_count": 2,
   "metadata": {},
   "outputs": [
    {
     "data": {
      "text/html": [
       "<div>\n",
       "<style scoped>\n",
       "    .dataframe tbody tr th:only-of-type {\n",
       "        vertical-align: middle;\n",
       "    }\n",
       "\n",
       "    .dataframe tbody tr th {\n",
       "        vertical-align: top;\n",
       "    }\n",
       "\n",
       "    .dataframe thead th {\n",
       "        text-align: right;\n",
       "    }\n",
       "</style>\n",
       "<table border=\"1\" class=\"dataframe\">\n",
       "  <thead>\n",
       "    <tr style=\"text-align: right;\">\n",
       "      <th></th>\n",
       "      <th>time</th>\n",
       "      <th>#nodes</th>\n",
       "      <th>pathlength</th>\n",
       "      <th>horizon</th>\n",
       "      <th>#moves</th>\n",
       "    </tr>\n",
       "  </thead>\n",
       "  <tbody>\n",
       "    <tr>\n",
       "      <th>0</th>\n",
       "      <td>0.024286</td>\n",
       "      <td>2.0</td>\n",
       "      <td>0.0</td>\n",
       "      <td>5.0</td>\n",
       "      <td>19.0</td>\n",
       "    </tr>\n",
       "    <tr>\n",
       "      <th>1</th>\n",
       "      <td>0.753991</td>\n",
       "      <td>10.0</td>\n",
       "      <td>3.0</td>\n",
       "      <td>7.0</td>\n",
       "      <td>28.0</td>\n",
       "    </tr>\n",
       "    <tr>\n",
       "      <th>2</th>\n",
       "      <td>0.215480</td>\n",
       "      <td>5.0</td>\n",
       "      <td>2.0</td>\n",
       "      <td>6.0</td>\n",
       "      <td>20.0</td>\n",
       "    </tr>\n",
       "    <tr>\n",
       "      <th>3</th>\n",
       "      <td>0.757107</td>\n",
       "      <td>14.0</td>\n",
       "      <td>4.0</td>\n",
       "      <td>6.0</td>\n",
       "      <td>20.0</td>\n",
       "    </tr>\n",
       "    <tr>\n",
       "      <th>4</th>\n",
       "      <td>0.119025</td>\n",
       "      <td>3.0</td>\n",
       "      <td>1.0</td>\n",
       "      <td>5.0</td>\n",
       "      <td>15.0</td>\n",
       "    </tr>\n",
       "    <tr>\n",
       "      <th>...</th>\n",
       "      <td>...</td>\n",
       "      <td>...</td>\n",
       "      <td>...</td>\n",
       "      <td>...</td>\n",
       "      <td>...</td>\n",
       "    </tr>\n",
       "    <tr>\n",
       "      <th>160</th>\n",
       "      <td>NaN</td>\n",
       "      <td>NaN</td>\n",
       "      <td>NaN</td>\n",
       "      <td>NaN</td>\n",
       "      <td>NaN</td>\n",
       "    </tr>\n",
       "    <tr>\n",
       "      <th>161</th>\n",
       "      <td>NaN</td>\n",
       "      <td>NaN</td>\n",
       "      <td>NaN</td>\n",
       "      <td>NaN</td>\n",
       "      <td>NaN</td>\n",
       "    </tr>\n",
       "    <tr>\n",
       "      <th>162</th>\n",
       "      <td>NaN</td>\n",
       "      <td>NaN</td>\n",
       "      <td>NaN</td>\n",
       "      <td>NaN</td>\n",
       "      <td>NaN</td>\n",
       "    </tr>\n",
       "    <tr>\n",
       "      <th>163</th>\n",
       "      <td>NaN</td>\n",
       "      <td>NaN</td>\n",
       "      <td>NaN</td>\n",
       "      <td>NaN</td>\n",
       "      <td>NaN</td>\n",
       "    </tr>\n",
       "    <tr>\n",
       "      <th>164</th>\n",
       "      <td>NaN</td>\n",
       "      <td>NaN</td>\n",
       "      <td>NaN</td>\n",
       "      <td>NaN</td>\n",
       "      <td>NaN</td>\n",
       "    </tr>\n",
       "  </tbody>\n",
       "</table>\n",
       "<p>165 rows × 5 columns</p>\n",
       "</div>"
      ],
      "text/plain": [
       "         time  #nodes  pathlength  horizon  #moves\n",
       "0    0.024286     2.0         0.0      5.0    19.0\n",
       "1    0.753991    10.0         3.0      7.0    28.0\n",
       "2    0.215480     5.0         2.0      6.0    20.0\n",
       "3    0.757107    14.0         4.0      6.0    20.0\n",
       "4    0.119025     3.0         1.0      5.0    15.0\n",
       "..        ...     ...         ...      ...     ...\n",
       "160       NaN     NaN         NaN      NaN     NaN\n",
       "161       NaN     NaN         NaN      NaN     NaN\n",
       "162       NaN     NaN         NaN      NaN     NaN\n",
       "163       NaN     NaN         NaN      NaN     NaN\n",
       "164       NaN     NaN         NaN      NaN     NaN\n",
       "\n",
       "[165 rows x 5 columns]"
      ]
     },
     "execution_count": 2,
     "metadata": {},
     "output_type": "execute_result"
    }
   ],
   "source": [
    "g1 = pd.read_csv(\"inc_benchmarkResults/greedy1.csv\")\n",
    "g2 = pd.read_csv(\"inc_benchmarkResults/greedy2.csv\")\n",
    "g3 = pd.read_csv(\"inc_benchmarkResults/greedy3.csv\")\n",
    "g4 = pd.read_csv(\"inc_benchmarkResults/greedy4.csv\")\n",
    "g5 = pd.read_csv(\"inc_benchmarkResults/greedy5.csv\")\n",
    "\n",
    "\n",
    "#Nullen bei pathlength sehr komisch, das sollte sich mal jemand anschauen\n",
    "\n",
    "# use this for only the times\n",
    "#df = pd.concat([g1.iloc[:,:2], g2.iloc[:,:2], g3.iloc[:,:2]])\n",
    "dfig = pd.concat([g1, g2, g3, g4, g5])\n",
    "by_row_index = df.groupby(df.index)\n",
    "# calculate means for times of all dataframes\n",
    "df_means = by_row_index.mean()\n",
    "df_means"
   ]
  },
  {
   "cell_type": "code",
   "execution_count": 3,
   "metadata": {},
   "outputs": [
    {
     "name": "stdout",
     "output_type": "stream",
     "text": [
      "                                               file        time  #nodes  \\\n",
      "0     ./benchmark_examples/size5x5/density20/ex1.lp    0.007837     2.0   \n",
      "1    ./benchmark_examples/size5x5/density20/ex10.lp    0.284192    11.0   \n",
      "2    ./benchmark_examples/size5x5/density20/ex11.lp    0.053577     3.0   \n",
      "3    ./benchmark_examples/size5x5/density20/ex12.lp    0.171641     9.0   \n",
      "4    ./benchmark_examples/size5x5/density20/ex13.lp    0.025849     3.0   \n",
      "..                                              ...         ...     ...   \n",
      "175   ./benchmark_examples/size8x8/density40/ex5.lp   35.582318   157.0   \n",
      "176   ./benchmark_examples/size8x8/density40/ex6.lp   50.728633   216.0   \n",
      "177   ./benchmark_examples/size8x8/density40/ex7.lp   22.380689   126.0   \n",
      "178   ./benchmark_examples/size8x8/density40/ex8.lp  305.970688   796.0   \n",
      "179   ./benchmark_examples/size8x8/density40/ex9.lp    7.607864    43.0   \n",
      "\n",
      "     pathlength  horizon  #moves  size  density  ex  \n",
      "0           0.0      5.0    19.0     5       20   1  \n",
      "1           6.0      7.0    32.0     5       20   1  \n",
      "2           1.0      6.0    20.0     5       20   1  \n",
      "3           6.0      6.0    22.0     5       20   1  \n",
      "4           1.0      5.0    15.0     5       20   1  \n",
      "..          ...      ...     ...   ...      ...  ..  \n",
      "175        91.0     13.0   167.0     8       40   5  \n",
      "176       136.0     16.0   210.0     8       40   6  \n",
      "177        82.0     13.0   169.0     8       40   7  \n",
      "178       136.0     16.0   218.0     8       40   8  \n",
      "179        30.0     10.0   139.0     8       40   9  \n",
      "\n",
      "[180 rows x 9 columns]\n"
     ]
    }
   ],
   "source": [
    "def size(row):\n",
    "    return int(str(row[\"file\"]).split(\"/\")[2][-1])\n",
    "\n",
    "def density(row):\n",
    "    return int(str(row[\"file\"]).split(\"/\")[3][-2:])\n",
    "\n",
    "def ex(row):\n",
    "    return int(str(row[\"file\"]).split(\"/\")[4][2])\n",
    "\n",
    "def num(row):\n",
    "    return int(str(row[\"file\"]).split(\"/\")[0].split(\"\\\\\")[1].split(\"r\")[0])\n",
    "\n",
    "df['size'] = df.apply(lambda row: size(row), axis=1)\n",
    "df['density'] = df.apply(lambda row: density(row), axis=1)\n",
    "df['ex'] = df.apply(lambda row: ex(row), axis=1)\n",
    "            \n",
    "dfg['size'] = dfg.apply(lambda row: size(row), axis=1)\n",
    "dfg['density'] = dfg.apply(lambda row: density(row), axis=1)\n",
    "dfg['ex'] = dfg.apply(lambda row: ex(row), axis=1)\n",
    "\n",
    "dfng['num'] = dfng.apply(lambda row: num(row), axis=1)\n",
    "\n",
    "dfnga = dfng.iloc[0:10]\n",
    "dfngb = dfng.iloc[10:]\n",
    "dfng = pd.concat([dfngb, dfnga], sort=False)\n",
    "dfng\n",
    "\n",
    "# Nummerierung der Zeilen fixen\n",
    "print(dfg)"
   ]
  },
  {
   "cell_type": "code",
   "execution_count": 4,
   "metadata": {},
   "outputs": [
    {
     "name": "stdout",
     "output_type": "stream",
     "text": [
      "[0, 0, 4, 0, 0, 8, 1, 11, 15, 2, 14]\n"
     ]
    },
    {
     "data": {
      "text/plain": [
       "[0.36792573606556594,\n",
       " 2.5683630408680376,\n",
       " 119.50608018493318,\n",
       " 8.118940189333323,\n",
       " 40.09910480566808,\n",
       " 194.69680946353475,\n",
       " 23.631675379934798,\n",
       " 222.68144714853358,\n",
       " 300,\n",
       " 78.93638717273134,\n",
       " 291.5617531544665]"
      ]
     },
     "execution_count": 4,
     "metadata": {},
     "output_type": "execute_result"
    }
   ],
   "source": [
    "# sort data by size + density\n",
    "\n",
    "def sort_by_category(to_sort):\n",
    "    '''returns list of DataFrames'''\n",
    "    lcg = [] #(List of Categorised Groups)\n",
    "    for i in range(int((len(to_sort))/15)):\n",
    "        lcg.append(to_sort.iloc[(i*15):(i*15+15)])\n",
    "    return lcg\n",
    "\n",
    "# list of DataFrames, split by size + density\n",
    "catList = sort_by_category(df)\n",
    "greedyCatList = sort_by_category(dfg)\n",
    "\n",
    "\n",
    "\n",
    "# for every df in received list, \n",
    "# calculate how many NaN rows are in there\n",
    "# returns: list of int\n",
    "\n",
    "def nan_counter(cat_df):\n",
    "    lc = [] # List of Counts\n",
    "    for elem in cat_df:\n",
    "        counter = 0\n",
    "        for i in range(15):\n",
    "            if np.isnan(elem[\"time\"].iloc[i]):\n",
    "                counter += 1\n",
    "        lc.append(counter)\n",
    "    return lc\n",
    "\n",
    "# list of NaN rows in cat_list df\n",
    "nanList = nan_counter(catList)\n",
    "greedyNanList = nan_counter(greedyCatList)\n",
    "\n",
    "print(nanList)\n",
    "\n",
    "# calculate list of mean times \n",
    "def mean_list(df_list, nan_List):\n",
    "    l = []\n",
    "    counter = 0\n",
    "    length = len(df_list[0])\n",
    "    for elem in df_list:\n",
    "        tempMean = elem.mean()[0]\n",
    "        locNans = nan_List[counter]\n",
    "        if(locNans != 0):\n",
    "            if(locNans == length):\n",
    "                tempMean = 300\n",
    "            else: \n",
    "                tempMean = (tempMean * (length - locNans) + locNans * 300) / length\n",
    "        l.append(tempMean)\n",
    "        counter += 1\n",
    "    return l\n",
    "\n",
    "# list of mean times for each size + density combination\n",
    "mean = mean_list(catList, nanList)\n",
    "greedyMean = mean_list(greedyCatList, greedyNanList)\n",
    "mean\n"
   ]
  },
  {
   "cell_type": "code",
   "execution_count": 5,
   "metadata": {},
   "outputs": [
    {
     "data": {
      "image/png": "[encoded data removed]",
      "text/plain": [
       "<Figure size 288x432 with 4 Axes>"
      ]
     },
     "metadata": {
      "needs_background": "light"
     },
     "output_type": "display_data"
    }
   ],
   "source": [
    "# df1 = df.loc[(df['ex']==1)].copy(deep=True)\n",
    "# df2 = df.loc[(df['ex']==2)]\n",
    "# df3 = df.loc[(df['ex']==3)]\n",
    "\n",
    "# df1['time'] = df['time'].fillna(5*60)\n",
    "\n",
    "\n",
    "# plot mean times for each density/size combination\n",
    "points = np.linspace(0, len(mean), len(mean))\n",
    "points = [20,30,40]\n",
    "  \n",
    "\n",
    "\n",
    "fig = plt.figure()\n",
    "ax1 = fig.add_subplot(2, 2, 1)\n",
    "ax2 = fig.add_subplot(2, 2, 2, sharey=ax1, sharex=ax1)\n",
    "ax3 = fig.add_subplot(2, 2, 3, sharey=ax1, sharex=ax1)\n",
    "ax4 = fig.add_subplot(2, 2, 4, sharey=ax1, sharex=ax1)\n",
    "\n",
    "ax1.scatter(points, mean[:3])\n",
    "ax2.scatter(points, mean[3:6])\n",
    "ax3.scatter(points, mean[6:9])\n",
    "ax4.scatter(points[:-1], mean[9:])\n",
    "\n",
    "fig.set_size_inches(4, 6, forward=True)\n",
    "fig.tight_layout()\n",
    "\n",
    "\n",
    "ax1.grid()\n",
    "ax2.grid()\n",
    "ax3.grid()\n",
    "ax4.grid()\n",
    "\n",
    "plt.show()"
   ]
  },
  {
   "cell_type": "code",
   "execution_count": 6,
   "metadata": {},
   "outputs": [
    {
     "data": {
      "image/png": "[encoded data removed]",
      "text/plain": [
       "<Figure size 288x432 with 3 Axes>"
      ]
     },
     "metadata": {
      "needs_background": "light"
     },
     "output_type": "display_data"
    }
   ],
   "source": [
    "points = [5,6,7,8]\n",
    "  \n",
    "\n",
    "\n",
    "fig = plt.figure()\n",
    "ax1 = fig.add_subplot(2, 2, 1)\n",
    "ax2 = fig.add_subplot(2, 2, 2, sharey=ax1, sharex=ax1)\n",
    "ax3 = fig.add_subplot(2, 2, 3, sharey=ax1, sharex=ax1)\n",
    "\n",
    "ax1.scatter(points, mean[::3])\n",
    "ax2.scatter(points, mean[1::3])\n",
    "ax3.scatter(points[:3], mean[2::3])\n",
    "\n",
    "fig.set_size_inches(4, 6, forward=True)\n",
    "fig.tight_layout()\n",
    "\n",
    "\n",
    "ax1.grid()\n",
    "ax2.grid()\n",
    "ax3.grid()\n",
    "\n",
    "plt.show()"
   ]
  },
  {
   "cell_type": "code",
   "execution_count": 7,
   "metadata": {},
   "outputs": [
    {
     "name": "stdout",
     "output_type": "stream",
     "text": [
      "[0.36792573606556594, 2.5683630408680376, 119.50608018493318, 8.118940189333323, 40.09910480566808, 194.69680946353475, 23.631675379934798, 222.68144714853358, 300, 78.93638717273134, 291.5617531544665]\n"
     ]
    },
    {
     "data": {
      "image/png": "[encoded data removed]",
      "text/plain": [
       "<Figure size 432x288 with 1 Axes>"
      ]
     },
     "metadata": {
      "needs_background": "light"
     },
     "output_type": "display_data"
    }
   ],
   "source": [
    "#[mean[:3],mean[3:6],mean[6:9],mean[9:].append(300)],[5,6,7,8]; [mean[::3],mean[1::3],mean[2::3].append(300)]\n",
    "\n",
    "# importing mplot3d toolkits\n",
    "from mpl_toolkits import mplot3d\n",
    "\n",
    "fig = plt.figure()\n",
    "\n",
    "# syntax for 3-D projection\n",
    "ax = plt.axes(projection ='3d')\n",
    "# defining axes\n",
    "z = mean\n",
    "x = range(11)\n",
    "y = x\n",
    "print(z)\n",
    "\n",
    "\n",
    "ax.scatter(x, y, z, color=\"red\")\n",
    "\n",
    "plt.show()"
   ]
  },
  {
   "cell_type": "code",
   "execution_count": 8,
   "metadata": {},
   "outputs": [
    {
     "data": {
      "image/png": "[encoded data removed]",
      "text/plain": [
       "<Figure size 288x432 with 4 Axes>"
      ]
     },
     "metadata": {
      "needs_background": "light"
     },
     "output_type": "display_data"
    }
   ],
   "source": [
    "points = np.linspace(0, len(mean), len(mean))\n",
    "points = [20,30,40]\n",
    "  \n",
    "\n",
    "\n",
    "fig = plt.figure()\n",
    "ax1 = fig.add_subplot(2, 2, 1)\n",
    "ax2 = fig.add_subplot(2, 2, 2)\n",
    "ax3 = fig.add_subplot(2, 2, 3)\n",
    "ax4 = fig.add_subplot(2, 2, 4)\n",
    "\n",
    "ax1.scatter(points, greedyMean[:3])\n",
    "ax2.scatter(points, greedyMean[3:6])\n",
    "ax3.scatter(points, greedyMean[6:9])\n",
    "ax4.scatter(points, greedyMean[9:])\n",
    "\n",
    "fig.set_size_inches(4, 6, forward=True)\n",
    "fig.tight_layout()\n",
    "\n",
    "\n",
    "ax1.grid()\n",
    "ax2.grid()\n",
    "ax3.grid()\n",
    "ax4.grid()\n",
    "\n",
    "plt.show()"
   ]
  },
  {
   "cell_type": "code",
   "execution_count": 9,
   "metadata": {},
   "outputs": [
    {
     "data": {
      "image/png": "[encoded data removed]",
      "text/plain": [
       "<Figure size 288x432 with 3 Axes>"
      ]
     },
     "metadata": {
      "needs_background": "light"
     },
     "output_type": "display_data"
    }
   ],
   "source": [
    "points = [5,6,7,8]\n",
    "  \n",
    "\n",
    "\n",
    "fig = plt.figure()\n",
    "ax1 = fig.add_subplot(2, 2, 1)\n",
    "ax2 = fig.add_subplot(2, 2, 2)\n",
    "ax3 = fig.add_subplot(2, 2, 3)\n",
    "\n",
    "ax1.scatter(points, greedyMean[::3])\n",
    "ax2.scatter(points, greedyMean[1::3])\n",
    "ax3.scatter(points, greedyMean[2::3])\n",
    "\n",
    "fig.set_size_inches(4, 6, forward=True)\n",
    "fig.tight_layout()\n",
    "\n",
    "\n",
    "ax1.grid()\n",
    "ax2.grid()\n",
    "ax3.grid()\n",
    "\n",
    "plt.show()"
   ]
  },
  {
   "cell_type": "code",
   "execution_count": 10,
   "metadata": {},
   "outputs": [
    {
     "name": "stdout",
     "output_type": "stream",
     "text": [
      "file      ./benchmark_examples/size5x5/density20/ex1.lp\n",
      "#moves                                               19\n",
      "Name: 0, dtype: object\n",
      "[19.0, 32.0, 20.0, 22.0, 15.0, 23.0, 18.0, 19.0, 20.0, 22.0, 11.0, 16.0, 22.0, 14.0, 12.0]\n"
     ]
    },
    {
     "data": {
      "image/png": "[encoded data removed]",
      "text/plain": [
       "<Figure size 576x432 with 1 Axes>"
      ]
     },
     "metadata": {
      "needs_background": "light"
     },
     "output_type": "display_data"
    },
    {
     "name": "stdout",
     "output_type": "stream",
     "text": [
      "file      ./benchmark_examples/size5x5/density30/ex1.lp\n",
      "#moves                                               29\n",
      "Name: 15, dtype: object\n",
      "[33.0, 16.0, 32.0, 22.0, 19.0, 29.0, 24.0, 37.0, 29.0, 29.0, 26.0, 24.0, 20.0, 23.0, 33.0]\n"
     ]
    },
    {
     "data": {
      "image/png": "[encoded data removed]",
      "text/plain": [
       "<Figure size 576x432 with 1 Axes>"
      ]
     },
     "metadata": {
      "needs_background": "light"
     },
     "output_type": "display_data"
    },
    {
     "name": "stdout",
     "output_type": "stream",
     "text": [
      "file      ./benchmark_examples/size5x5/density40/ex1.lp\n",
      "#moves                                               32\n",
      "Name: 30, dtype: object\n",
      "[36.0, 53.0, 40.0, 53.0, 42.0, 33.0, 44.0, 37.0, 48.0, 36.0, 29.0, 39.0, 43.0, 43.0, 38.0]\n"
     ]
    },
    {
     "data": {
      "image/png": "[encoded data removed]",
      "text/plain": [
       "<Figure size 576x432 with 1 Axes>"
      ]
     },
     "metadata": {
      "needs_background": "light"
     },
     "output_type": "display_data"
    },
    {
     "name": "stdout",
     "output_type": "stream",
     "text": [
      "file      ./benchmark_examples/size6x6/density20/ex1.lp\n",
      "#moves                                               18\n",
      "Name: 45, dtype: object\n",
      "[18.0, 27.0, 34.0, 31.0, 27.0, 33.0, 36.0, 39.0, 28.0, 36.0, 31.0, 35.0, 29.0, 31.0, 25.0]\n"
     ]
    },
    {
     "data": {
      "image/png": "[encoded data removed]",
      "text/plain": [
       "<Figure size 576x432 with 1 Axes>"
      ]
     },
     "metadata": {
      "needs_background": "light"
     },
     "output_type": "display_data"
    },
    {
     "name": "stdout",
     "output_type": "stream",
     "text": [
      "file      ./benchmark_examples/size6x6/density30/ex1.lp\n",
      "#moves                                               34\n",
      "Name: 60, dtype: object\n",
      "[38.0, 49.0, 33.0, 35.0, 50.0, 33.0, 58.0, 53.0, 43.0, 45.0, 54.0, 49.0, 53.0, 42.0, 57.0]\n"
     ]
    },
    {
     "data": {
      "image/png": "[encoded data removed]",
      "text/plain": [
       "<Figure size 576x432 with 1 Axes>"
      ]
     },
     "metadata": {
      "needs_background": "light"
     },
     "output_type": "display_data"
    },
    {
     "name": "stdout",
     "output_type": "stream",
     "text": [
      "file      ./benchmark_examples/size6x6/density40/ex1.lp\n",
      "#moves                                               61\n",
      "Name: 75, dtype: object\n",
      "[63.0, 67.0, 54.0, 64.0, 96.0, 67.0, 76.0, 78.0, 61.0, 79.0, 61.0, 72.0, 66.0, 73.0, 90.0]\n"
     ]
    },
    {
     "data": {
      "image/png": "[encoded data removed]",
      "text/plain": [
       "<Figure size 576x432 with 1 Axes>"
      ]
     },
     "metadata": {
      "needs_background": "light"
     },
     "output_type": "display_data"
    },
    {
     "name": "stdout",
     "output_type": "stream",
     "text": [
      "file      ./benchmark_examples/size7x7/density20/ex1.lp\n",
      "#moves                                               51\n",
      "Name: 90, dtype: object\n",
      "[53.0, 50.0, 53.0, 57.0, 39.0, 49.0, 35.0, 54.0, 53.0, 24.0, 58.0, 30.0, 47.0, 44.0, 36.0]\n"
     ]
    },
    {
     "data": {
      "image/png": "[encoded data removed]",
      "text/plain": [
       "<Figure size 576x432 with 1 Axes>"
      ]
     },
     "metadata": {
      "needs_background": "light"
     },
     "output_type": "display_data"
    },
    {
     "name": "stdout",
     "output_type": "stream",
     "text": [
      "file      ./benchmark_examples/size7x7/density30/ex1.lp\n",
      "#moves                                              NaN\n",
      "Name: 105, dtype: object\n",
      "[66.0, 85.0, 54.0, 69.0, 68.0, 73.0, 87.0, 54.0, 70.0, 66.0, 83.0, 81.0, 80.0, 89.0, 79.0]\n"
     ]
    },
    {
     "data": {
      "image/png": "[encoded data removed]",
      "text/plain": [
       "<Figure size 576x432 with 1 Axes>"
      ]
     },
     "metadata": {
      "needs_background": "light"
     },
     "output_type": "display_data"
    },
    {
     "name": "stdout",
     "output_type": "stream",
     "text": [
      "file      ./benchmark_examples/size7x7/density40/ex1.lp\n",
      "#moves                                              NaN\n",
      "Name: 120, dtype: object\n",
      "[95.0, 119.0, 136.0, 115.0, 127.0, 106.0, 96.0, 93.0, 108.0, 111.0, 107.0, 99.0, 92.0, 146.0, 114.0]\n"
     ]
    },
    {
     "data": {
      "image/png": "[encoded data removed]",
      "text/plain": [
       "<Figure size 576x432 with 1 Axes>"
      ]
     },
     "metadata": {
      "needs_background": "light"
     },
     "output_type": "display_data"
    },
    {
     "name": "stdout",
     "output_type": "stream",
     "text": [
      "file      ./benchmark_examples/size8x8/density20/ex1.lp\n",
      "#moves                                               56\n",
      "Name: 135, dtype: object\n",
      "[56.0, 76.0, 51.0, 89.0, 72.0, 72.0, 58.0, 61.0, 61.0, 80.0, 62.0, 70.0, 69.0, 68.0, 53.0]\n"
     ]
    },
    {
     "data": {
      "image/png": "[encoded data removed]",
      "text/plain": [
       "<Figure size 576x432 with 1 Axes>"
      ]
     },
     "metadata": {
      "needs_background": "light"
     },
     "output_type": "display_data"
    },
    {
     "name": "stdout",
     "output_type": "stream",
     "text": [
      "file      ./benchmark_examples/size8x8/density30/ex1.lp\n",
      "#moves                                              NaN\n",
      "Name: 150, dtype: object\n",
      "[106.0, 131.0, 141.0, 140.0, 124.0, 117.0, 116.0, 133.0, 112.0, 107.0, 113.0, 111.0, 136.0, 117.0, 97.0]\n"
     ]
    },
    {
     "data": {
      "image/png": "[encoded data removed]",
      "text/plain": [
       "<Figure size 576x432 with 1 Axes>"
      ]
     },
     "metadata": {
      "needs_background": "light"
     },
     "output_type": "display_data"
    }
   ],
   "source": [
    "points = [*range(1,16)]\n",
    "\n",
    "for i in range(len(catList)):\n",
    "    \n",
    "    fig = plt.figure()\n",
    "    \n",
    "    ax = fig.add_subplot(2, 2, 1)\n",
    "    \n",
    "    print(catList[i][['file','#moves']].iloc[0])\n",
    "    \n",
    "    print(list(greedyCatList[i]['#moves']))\n",
    "    \n",
    "    ax.bar(points, list(greedyCatList[i]['#moves']), color=\"red\")\n",
    "    ax.bar(points, list(catList[i]['#moves']), color=\"blue\")\n",
    "    \n",
    "    #ax.scatter(points, points, c=\"green\")\n",
    "    \n",
    "    fig.set_size_inches(8, 6, forward=True)\n",
    "    fig.tight_layout()  \n",
    "    \n",
    "    ax.grid()\n",
    "\n",
    "    plt.show()"
   ]
  },
  {
   "cell_type": "code",
   "execution_count": 11,
   "metadata": {},
   "outputs": [
    {
     "name": "stdout",
     "output_type": "stream",
     "text": [
      "file       ./benchmark_examples/size5x5/density20/ex1.lp\n",
      "horizon                                                5\n",
      "Name: 0, dtype: object\n"
     ]
    },
    {
     "data": {
      "image/png": "[encoded data removed]",
      "text/plain": [
       "<Figure size 576x432 with 1 Axes>"
      ]
     },
     "metadata": {
      "needs_background": "light"
     },
     "output_type": "display_data"
    },
    {
     "name": "stdout",
     "output_type": "stream",
     "text": [
      "file       ./benchmark_examples/size5x5/density30/ex1.lp\n",
      "horizon                                                7\n",
      "Name: 15, dtype: object\n"
     ]
    },
    {
     "data": {
      "image/png": "[encoded data removed]",
      "text/plain": [
       "<Figure size 576x432 with 1 Axes>"
      ]
     },
     "metadata": {
      "needs_background": "light"
     },
     "output_type": "display_data"
    },
    {
     "name": "stdout",
     "output_type": "stream",
     "text": [
      "file       ./benchmark_examples/size5x5/density40/ex1.lp\n",
      "horizon                                                5\n",
      "Name: 30, dtype: object\n"
     ]
    },
    {
     "data": {
      "image/png": "[encoded data removed]",
      "text/plain": [
       "<Figure size 576x432 with 1 Axes>"
      ]
     },
     "metadata": {
      "needs_background": "light"
     },
     "output_type": "display_data"
    },
    {
     "name": "stdout",
     "output_type": "stream",
     "text": [
      "file       ./benchmark_examples/size6x6/density20/ex1.lp\n",
      "horizon                                                4\n",
      "Name: 45, dtype: object\n"
     ]
    },
    {
     "data": {
      "image/png": "[encoded data removed]",
      "text/plain": [
       "<Figure size 576x432 with 1 Axes>"
      ]
     },
     "metadata": {
      "needs_background": "light"
     },
     "output_type": "display_data"
    },
    {
     "name": "stdout",
     "output_type": "stream",
     "text": [
      "file       ./benchmark_examples/size6x6/density30/ex1.lp\n",
      "horizon                                                8\n",
      "Name: 60, dtype: object\n"
     ]
    },
    {
     "data": {
      "image/png": "[encoded data removed]",
      "text/plain": [
       "<Figure size 576x432 with 1 Axes>"
      ]
     },
     "metadata": {
      "needs_background": "light"
     },
     "output_type": "display_data"
    },
    {
     "name": "stdout",
     "output_type": "stream",
     "text": [
      "file       ./benchmark_examples/size6x6/density40/ex1.lp\n",
      "horizon                                                7\n",
      "Name: 75, dtype: object\n"
     ]
    },
    {
     "data": {
      "image/png": "[encoded data removed]",
      "text/plain": [
       "<Figure size 576x432 with 1 Axes>"
      ]
     },
     "metadata": {
      "needs_background": "light"
     },
     "output_type": "display_data"
    },
    {
     "name": "stdout",
     "output_type": "stream",
     "text": [
      "file       ./benchmark_examples/size7x7/density20/ex1.lp\n",
      "horizon                                                9\n",
      "Name: 90, dtype: object\n"
     ]
    },
    {
     "data": {
      "image/png": "[encoded data removed]",
      "text/plain": [
       "<Figure size 576x432 with 1 Axes>"
      ]
     },
     "metadata": {
      "needs_background": "light"
     },
     "output_type": "display_data"
    },
    {
     "name": "stdout",
     "output_type": "stream",
     "text": [
      "file       ./benchmark_examples/size7x7/density30/ex1.lp\n",
      "horizon                                              NaN\n",
      "Name: 105, dtype: object\n"
     ]
    },
    {
     "data": {
      "image/png": "[encoded data removed]",
      "text/plain": [
       "<Figure size 576x432 with 1 Axes>"
      ]
     },
     "metadata": {
      "needs_background": "light"
     },
     "output_type": "display_data"
    },
    {
     "name": "stdout",
     "output_type": "stream",
     "text": [
      "file       ./benchmark_examples/size7x7/density40/ex1.lp\n",
      "horizon                                              NaN\n",
      "Name: 120, dtype: object\n"
     ]
    },
    {
     "data": {
      "image/png": "[encoded data removed]",
      "text/plain": [
       "<Figure size 576x432 with 1 Axes>"
      ]
     },
     "metadata": {
      "needs_background": "light"
     },
     "output_type": "display_data"
    },
    {
     "name": "stdout",
     "output_type": "stream",
     "text": [
      "file       ./benchmark_examples/size8x8/density20/ex1.lp\n",
      "horizon                                                8\n",
      "Name: 135, dtype: object\n"
     ]
    },
    {
     "data": {
      "image/png": "[encoded data removed]",
      "text/plain": [
       "<Figure size 576x432 with 1 Axes>"
      ]
     },
     "metadata": {
      "needs_background": "light"
     },
     "output_type": "display_data"
    },
    {
     "name": "stdout",
     "output_type": "stream",
     "text": [
      "file       ./benchmark_examples/size8x8/density30/ex1.lp\n",
      "horizon                                              NaN\n",
      "Name: 150, dtype: object\n"
     ]
    },
    {
     "data": {
      "image/png": "[encoded data removed]",
      "text/plain": [
       "<Figure size 576x432 with 1 Axes>"
      ]
     },
     "metadata": {
      "needs_background": "light"
     },
     "output_type": "display_data"
    }
   ],
   "source": [
    "points = [*range(1,16)]\n",
    "\n",
    "for i in range(len(catList)):\n",
    "    \n",
    "    fig = plt.figure()\n",
    "    \n",
    "    ax = fig.add_subplot(2, 2, 1)\n",
    "    \n",
    "    print(catList[i][['file','horizon']].iloc[0])\n",
    "\n",
    "    ax.bar(points, list(greedyCatList[i]['horizon']), color = \"red\")\n",
    "    ax.bar(points, list(catList[i]['horizon']), color = \"blue\")\n",
    "    \n",
    "    fig.set_size_inches(8, 6, forward=True)\n",
    "    fig.tight_layout()  \n",
    "    \n",
    "    ax.grid()\n",
    "\n",
    "    plt.show()"
   ]
  },
  {
   "cell_type": "code",
   "execution_count": 12,
   "metadata": {},
   "outputs": [
    {
     "name": "stdout",
     "output_type": "stream",
     "text": [
      "44.50882081136548\n",
      "0.2985205199947813\n",
      "123.73345802399855\n"
     ]
    }
   ],
   "source": [
    "print(catList[4]['time'].std())\n",
    "print(catList[4]['time'].min())\n",
    "print(catList[4]['time'].max())"
   ]
  },
  {
   "cell_type": "code",
   "execution_count": 13,
   "metadata": {},
   "outputs": [
    {
     "data": {
      "image/png": "[encoded data removed]",
      "text/plain": [
       "<Figure size 288x432 with 1 Axes>"
      ]
     },
     "metadata": {
      "needs_background": "light"
     },
     "output_type": "display_data"
    }
   ],
   "source": [
    "fig = plt.figure()\n",
    "ax1 = fig.add_subplot(1, 1, 1)\n",
    "\n",
    "plt.xscale('log')\n",
    "\n",
    "ax1.eventplot(list(catList[4]['time']))\n",
    "\n",
    "fig.set_size_inches(4, 6, forward=True)\n",
    "fig.tight_layout()\n",
    "\n",
    "\n",
    "ax1.grid()\n",
    "\n",
    "plt.show()"
   ]
  },
  {
   "cell_type": "code",
   "execution_count": 14,
   "metadata": {},
   "outputs": [
    {
     "data": {
      "image/png": "[encoded data removed]",
      "text/plain": [
       "<Figure size 432x288 with 1 Axes>"
      ]
     },
     "metadata": {
      "needs_background": "light"
     },
     "output_type": "display_data"
    }
   ],
   "source": [
    "# plotting the data from incrementally increasing num of robots\n",
    "\n",
    "dfng.plot(x=\"num\", y=\"time\", label=\"solving speed when num of robots gradually increased\")\n",
    "plt.show()"
   ]
  },
  {
   "cell_type": "code",
   "execution_count": 15,
   "metadata": {},
   "outputs": [
    {
     "ename": "SyntaxError",
     "evalue": "invalid syntax (<ipython-input-15-12eda355a14c>, line 1)",
     "output_type": "error",
     "traceback": [
      "\u001b[1;36m  File \u001b[1;32m\"<ipython-input-15-12eda355a14c>\"\u001b[1;36m, line \u001b[1;32m1\u001b[0m\n\u001b[1;33m    ideas:\u001b[0m\n\u001b[1;37m          ^\u001b[0m\n\u001b[1;31mSyntaxError\u001b[0m\u001b[1;31m:\u001b[0m invalid syntax\n"
     ]
    }
   ],
   "source": [
    "ideas:\n",
    "    dreidimensionale Grafik (size - density - time) \n",
    "    Durchschnitt aus allen drei ex ziehen (exclude NaN?)   x\n",
    "    neu messen mit kleineren Abständen bei Dichte\n",
    "    Optimalität bei greedy vs normal vergleichen\n",
    "    erstelle mehr num_robots_benchmark Verzeichnisse \n",
    "        und bilde Mittel über versch. Messwerte\n",
    "    erstelle mehr nicht-greedy inc-Läufe\n",
    "    die Varianz bei Laufzeiten auf einem Beispiel in\n",
    "        verschiedenen Durchgängen untersuchen\n",
    "    vielleicht anfängliche Konflikt-Anzahl mitausgeben\n",
    "    \n",
    "Was für Aufgaben müssen noch erfüllt werden?\n",
    "    Arbeit schreiben\n",
    "    Kommentare in Code schreiben\n",
    "    Github Erklärungen/Aufbau verbessern"
   ]
  }
 ],
 "metadata": {
  "kernelspec": {
   "display_name": "Python 3",
   "language": "python",
   "name": "python3"
  },
  "language_info": {
   "codemirror_mode": {
    "name": "ipython",
    "version": 3
   },
   "file_extension": ".py",
   "mimetype": "text/x-python",
   "name": "python",
   "nbconvert_exporter": "python",
   "pygments_lexer": "ipython3",
   "version": "3.8.5"
  }
 },
 "nbformat": 4,
 "nbformat_minor": 4
}
